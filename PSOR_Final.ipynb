{
 "cells": [
  {
   "cell_type": "code",
   "execution_count": 1,
   "metadata": {},
   "outputs": [],
   "source": [
    "import numpy as np"
   ]
  },
  {
   "cell_type": "code",
   "execution_count": 13,
   "metadata": {},
   "outputs": [],
   "source": [
    "def PSOR_American_Put(Stock, Strike, Volatility, RiskFreeRate, Dividend, Space, Expiry, Time):\n",
    "\n",
    "    S = Stock\n",
    "    T = Expiry\n",
    "    vol = Volatility\n",
    "    q = Dividend\n",
    "    r = RiskFreeRate\n",
    "    K = Strike\n",
    "    omega = 1.5\n",
    "    epsilon = 1e-8\n",
    "\n",
    "    M = Time\n",
    "    N = Space\n",
    "\n",
    "    S_max = K*3\n",
    "    S_min = K/10\n",
    "\n",
    "    x_max = np.log(S_max)\n",
    "    x_min = np.log(S_min)\n",
    "\n",
    "    x, dx = np.linspace(x_min, x_max, N, retstep=True)\n",
    "    t, dt = np.linspace(0, T, M, retstep=True)\n",
    "    S_vec = np.exp(x)\n",
    "\n",
    "    dx2 = dx**2\n",
    "    vol2 = vol**2\n",
    "\n",
    "    a_one = -0.25 * (vol2) * (dt / dx2) - ((r - q)  - 0.5 * vol2) * (0.25 * (dt / dx))\n",
    "    a_zero = 1 + (0.5 * vol2) * (dt / dx2) + 0.5 * r * dt\n",
    "    a_negative_one = -0.25 * (vol2) * (dt / dx2) + ((r - q)  - 0.5 * vol2) * (0.25 * (dt / dx))\n",
    "\n",
    "    b_one = 0.25 * (vol2) * (dt / dx2) + ((r - q)  - 0.5 * vol2) * (0.25 * (dt / dx))\n",
    "    b_zero = 1 - (0.5 * vol2) * (dt / dx2) - 0.5 * r * dt\n",
    "    b_negative_one = 0.25 * (vol2) * (dt / dx2) - ((r - q) - 0.5 * vol2) * (0.25 * (dt / dx))\n",
    "\n",
    "    B = np.diag([b_zero] * N) + np.diag([b_one] * (N - 1), 1) + np.diag([b_negative_one] * (N - 1), -1)\n",
    "    V = np.zeros((M, N))\n",
    "\n",
    "    # Initial conditions\n",
    "    payoff = np.maximum(K - S_vec, 0)\n",
    "    V[0,:] = payoff\n",
    "\n",
    "    put_left_boundary = lambda i: K - np.exp(x_min - i * dx)\n",
    "\n",
    "    for i in range(1, M):\n",
    "        error = float(\"inf\")\n",
    "        v_psor = V[i-1].copy()\n",
    "        d = B @ V[i-1]\n",
    "        d[0] += b_negative_one * put_left_boundary(i - 1) - a_negative_one * put_left_boundary(i)\n",
    "        while epsilon < error:\n",
    "            v_psor_prev = v_psor.copy()\n",
    "            for j in range(N):\n",
    "                correction = d[j] - a_zero * v_psor[j]\n",
    "                if 0 < j:\n",
    "                    correction -= a_negative_one * v_psor[j - 1]\n",
    "                if j < N - 1:\n",
    "                    correction -= a_one * v_psor[j + 1]\n",
    "                v_psor[j] += (omega / a_zero) * correction\n",
    "                v_psor[j] = max(v_psor[j], payoff[j])\n",
    "            diff = v_psor - v_psor_prev\n",
    "            error = diff @ diff\n",
    "        V[i] = v_psor\n",
    "\n",
    "        option_price = np.interp(np.log(S), x, V[-1,:])\n",
    "        upper = np.interp(np.log(S + dx), x, V[-1, :])\n",
    "        lower = np.interp(np.log(S - dx), x, V[-1, :])\n",
    "        delta = (upper - lower) / (2 * dx)\n",
    "        \n",
    "\n",
    "    print(f\"Option price: {option_price:.6f}\\n\")\n",
    "    print(f\"Option Delta: {delta:.6f}\\n\")\n",
    "\n",
    "    return V, delta\n"
   ]
  },
  {
   "cell_type": "code",
   "execution_count": 14,
   "metadata": {},
   "outputs": [
    {
     "name": "stdout",
     "output_type": "stream",
     "text": [
      "Option price: 4.486775\n",
      "\n",
      "Option Delta: -0.694522\n",
      "\n"
     ]
    },
    {
     "ename": "ValueError",
     "evalue": "not enough values to unpack (expected 3, got 2)",
     "output_type": "error",
     "traceback": [
      "\u001b[0;31m---------------------------------------------------------------------------\u001b[0m",
      "\u001b[0;31mValueError\u001b[0m                                Traceback (most recent call last)",
      "\u001b[1;32m/Users/edwardmckenzie/Downloads/Thesis 2/PSORtest.ipynb Cell 3\u001b[0m line \u001b[0;36m1\n\u001b[0;32m----> <a href='vscode-notebook-cell:/Users/edwardmckenzie/Downloads/Thesis%202/PSORtest.ipynb#W2sZmlsZQ%3D%3D?line=0'>1</a>\u001b[0m V, S_vec, t \u001b[39m=\u001b[39m PSOR_American_Put(\u001b[39m36\u001b[39m, \u001b[39m40\u001b[39m, \u001b[39m0.20\u001b[39m, \u001b[39m0.06\u001b[39m, \u001b[39m0.00\u001b[39m, \u001b[39m500\u001b[39m, \u001b[39m1.0\u001b[39m, \u001b[39m250\u001b[39m)\n",
      "\u001b[0;31mValueError\u001b[0m: not enough values to unpack (expected 3, got 2)"
     ]
    }
   ],
   "source": [
    "V, S_vec, t = PSOR_American_Put(36, 40, 0.20, 0.06, 0.00, 500, 1.0, 250)"
   ]
  },
  {
   "cell_type": "code",
   "execution_count": null,
   "metadata": {},
   "outputs": [],
   "source": []
  }
 ],
 "metadata": {
  "kernelspec": {
   "display_name": "base",
   "language": "python",
   "name": "python3"
  },
  "language_info": {
   "codemirror_mode": {
    "name": "ipython",
    "version": 3
   },
   "file_extension": ".py",
   "mimetype": "text/x-python",
   "name": "python",
   "nbconvert_exporter": "python",
   "pygments_lexer": "ipython3",
   "version": "3.11.4"
  }
 },
 "nbformat": 4,
 "nbformat_minor": 2
}
