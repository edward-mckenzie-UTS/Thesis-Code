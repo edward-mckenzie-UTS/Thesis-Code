{
 "cells": [
  {
   "cell_type": "code",
   "execution_count": 7,
   "metadata": {
    "pycharm": {
     "name": "#%%\n"
    }
   },
   "outputs": [],
   "source": [
    "import numpy as np"
   ]
  },
  {
   "cell_type": "code",
   "execution_count": 8,
   "metadata": {
    "pycharm": {
     "name": "#%%\n"
    }
   },
   "outputs": [],
   "source": [
    "S0 = 36\n",
    "sgm = 0.2\n",
    "T = 1.0\n",
    "K = 40\n",
    "q = 0.00\n",
    "N = 150\n",
    "rf = 0.06\n",
    "M = 150000\n",
    "alpha = 0.5"
   ]
  },
  {
   "cell_type": "code",
   "execution_count": 9,
   "metadata": {
    "pycharm": {
     "name": "#%%\n"
    }
   },
   "outputs": [],
   "source": [
    "def MLSM(S0, vol, div, r, alpha, K, T, N, M):\n",
    "    np.random.seed(123)\n",
    "    dt = float(T) / N\n",
    "    df = np.exp(-r * dt)\n",
    "    S = np.zeros((N + 1, M))\n",
    "    S[0, :] = S0 * np.exp(alpha * vol * np.sqrt(T) * np.random.standard_normal(M))\n",
    "\n",
    "    for t in range(1, N + 1):\n",
    "        ran = np.random.standard_normal(int(M / 2))\n",
    "        ran = np.concatenate((ran, -ran))\n",
    "        S[t, :] = S[t - 1, :] * np.exp((r - div - 0.5 * vol ** 2 ) * dt + vol * ran * np.sqrt(dt))\n",
    "\n",
    "    h = np.maximum(K - S, 0)\n",
    "    V = np.zeros_like(h)\n",
    "    V[-1] = h[-1]\n",
    "\n",
    "    for t in range(N - 1, 0, -1):\n",
    "        rg = np.polyfit(S[t, :], V[t + 1, :] * df, 5)\n",
    "        C = np.polyval(rg, S[t, :])\n",
    "        V[t, :] = np.where(h[t, :] > C, h[t, :],  V[t + 1, :] * df)\n",
    "    \n",
    "    rg0 = np.polyfit(S[0, :], V[1, :] * df , 5)\n",
    "    V0 = np.polyval(rg0, S0)\n",
    "    dV = np.polyder(rg0)\n",
    "    dV2 = np.polyder(rg0, 2)\n",
    "    delta = np.polyval(dV, S0)\n",
    "    gamma = np.polyval(dV2, S0)\n",
    "\n",
    "    print(f\"S0: {S0}| Vol: {vol}| Expiry: {T:.4f}| Option Price = {V0:.4f}, Delta = {delta:.5f}, Gamma = {gamma:.4f}\")"
   ]
  },
  {
   "cell_type": "code",
   "execution_count": 10,
   "metadata": {
    "pycharm": {
     "name": "#%%\n"
    }
   },
   "outputs": [
    {
     "name": "stdout",
     "output_type": "stream",
     "text": [
      "S0: 36| Vol: 0.2| Expiry: 1.0000| Option Price = 4.4630, Delta = -0.72069, Gamma = 0.0813\n"
     ]
    }
   ],
   "source": [
    "MLSM(S0, sgm, q, rf, alpha,K, T, N, M)"
   ]
  }
 ],
 "metadata": {
  "kernelspec": {
   "display_name": "base",
   "language": "python",
   "name": "python3"
  },
  "language_info": {
   "codemirror_mode": {
    "name": "ipython",
    "version": 3
   },
   "file_extension": ".py",
   "mimetype": "text/x-python",
   "name": "python",
   "nbconvert_exporter": "python",
   "pygments_lexer": "ipython3",
   "version": "3.11.4"
  },
  "orig_nbformat": 4
 },
 "nbformat": 4,
 "nbformat_minor": 2
}
