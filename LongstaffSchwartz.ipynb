{
 "cells": [
  {
   "cell_type": "code",
   "execution_count": 4,
   "metadata": {
    "collapsed": false,
    "pycharm": {
     "name": "#%%\n"
    }
   },
   "outputs": [],
   "source": [
    "import numpy as np\n",
    "N = 50\n",
    "M = 150000\n",
    "T = 1\n",
    "S0 = 36\n",
    "q = 0.00\n",
    "vol = 0.2\n",
    "r = 0.06\n",
    "K = 40"
   ]
  },
  {
   "cell_type": "code",
   "execution_count": 5,
   "metadata": {
    "collapsed": false,
    "pycharm": {
     "name": "#%%\n"
    }
   },
   "outputs": [],
   "source": [
    "def LSM(S0, vol, div, rf, K, T, N, M):\n",
    "    np.random.seed(123)\n",
    "    dt = float(T) / N\n",
    "    df = np.exp(-rf * dt)\n",
    "    S = np.zeros((N + 1, M))\n",
    "    S[0,:] = S0\n",
    "\n",
    "    for t in range(1, N + 1):\n",
    "        ran = np.random.standard_normal(int(M / 2))\n",
    "        ran = np.concatenate((ran, -ran))\n",
    "        S[t, :] = S[t-1, :] * np.exp((rf - div - 0.5 * vol ** 2 ) * dt + vol * ran * np.sqrt(dt))\n",
    "\n",
    "    h = np.maximum(K - S, 0)\n",
    "    V = np.zeros_like(h)\n",
    "    V[-1] = h[-1]\n",
    "\n",
    "    for t in range(N - 1, 0 , -1):\n",
    "        rg = np.polyfit(S[t, :], V[t + 1, :] * df, 5)\n",
    "        C = np.polyval(rg, S[t, :])\n",
    "        V[t,:] = np.where(h[t, :] > C, h[t, :], V[t + 1, :] * df)\n",
    "\n",
    "    V0 = np.sum(V[1, :] * df) / M\n",
    "    Std =  np.std(V[1, :] * df) / np.sqrt(M)\n",
    "\n",
    "    print(f\"S0: {S0}| Vol: {vol}| Expiry: {T:.4f}| Option Price = {V0:.6f}\")\n",
    "    print(f\"The 2 Standard Deviation CI for the Calculated Option Price is: {V0 - 1.96 * Std:.4f} to {V0 + 1.96 * Std:.4f}\")\n",
    "    print(Std)"
   ]
  },
  {
   "cell_type": "code",
   "execution_count": 7,
   "metadata": {
    "collapsed": false,
    "pycharm": {
     "name": "#%%\n"
    }
   },
   "outputs": [
    {
     "name": "stdout",
     "output_type": "stream",
     "text": [
      "S0: 36| Vol: 0.2| Expiry: 1.0000| Option Price = 4.462572\n",
      "The 2 Standard Deviation CI for the Calculated Option Price is: 4.4481 to 4.4770\n",
      "0.007368534064076393\n"
     ]
    }
   ],
   "source": [
    "LSM(S0, vol, q, r, K, T, N, M)"
   ]
  }
 ],
 "metadata": {
  "kernelspec": {
   "display_name": "Python 3",
   "language": "python",
   "name": "python3"
  },
  "language_info": {
   "codemirror_mode": {
    "name": "ipython",
    "version": 3
   },
   "file_extension": ".py",
   "mimetype": "text/x-python",
   "name": "python",
   "nbconvert_exporter": "python",
   "pygments_lexer": "ipython3",
   "version": "3.11.4"
  }
 },
 "nbformat": 4,
 "nbformat_minor": 0
}
